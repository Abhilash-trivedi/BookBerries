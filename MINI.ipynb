{
 "cells": [
  {
   "cell_type": "code",
   "execution_count": 37,
   "metadata": {},
   "outputs": [],
   "source": [
    "import pandas as pd\n",
    "import numpy"
   ]
  },
  {
   "cell_type": "code",
   "execution_count": 38,
   "metadata": {},
   "outputs": [],
   "source": [
    "import pymysql\n",
    "pymysql.install_as_MySQLdb()\n",
    "db = pymysql.connect(host=\"localhost\",    \n",
    "                     user=\"root\",        \n",
    "                     passwd=\"\", \n",
    "db=\"mini\") \n",
    "cur = db.cursor()"
   ]
  },
  {
   "cell_type": "code",
   "execution_count": 39,
   "metadata": {},
   "outputs": [],
   "source": [
    "length=1000\n",
    "user=pd.DataFrame()\n",
    "book=pd.DataFrame()\n",
    "rating=pd.DataFrame()"
   ]
  },
  {
   "cell_type": "code",
   "execution_count": 40,
   "metadata": {},
   "outputs": [
    {
     "data": {
      "text/plain": [
       "0"
      ]
     },
     "execution_count": 40,
     "metadata": {},
     "output_type": "execute_result"
    }
   ],
   "source": [
    "#cur.execute('drop table user')\n",
    "cur.execute('drop table rating')\n",
    "#cur.execute('drop table book')"
   ]
  },
  {
   "cell_type": "code",
   "execution_count": 41,
   "metadata": {},
   "outputs": [],
   "source": [
    "import random\n",
    "a=[]\n",
    "b=[]\n",
    "ko=[\"Male\",\"Female\",\"Others\"]\n",
    "c=[]\n",
    "op=['Satyajit','Deepa','Anshaj','Shukla','Tyagi','Ron','Harry','Opert']\n",
    "oo=\"ABCDEFGHIJKLMNOPQRSTUVWXYZ\"\n",
    "pp=\"1234567890\"\n",
    "em=[]\n",
    "nm=[]\n",
    "pw=[]\n",
    "un=[]\n",
    "\n",
    "for i in range(1,length):\n",
    "    a.append(i)\n",
    "    un.append('Decy'+str(i))\n",
    "    b.append(random.choice(ko))\n",
    "    nm.append(random.choice(op))\n",
    "    em.append(random.choice(oo)+random.choice(pp)+random.choice(op)+'@'+'gmail.com')\n",
    "    pw.append('decy'+random.choice(pp)+random.choice(oo)+random.choice(pp)+'#'+'A')\n",
    "    c.append(numpy.random.randint(11,80))"
   ]
  },
  {
   "cell_type": "code",
   "execution_count": 42,
   "metadata": {},
   "outputs": [],
   "source": [
    "user['userid']=a\n",
    "user['uname']=un\n",
    "user['name']=nm\n",
    "user['email']=em\n",
    "user['password']=pw\n",
    "user['sex']=b\n",
    "user['age']=c\n"
   ]
  },
  {
   "cell_type": "code",
   "execution_count": 43,
   "metadata": {},
   "outputs": [
    {
     "data": {
      "text/html": [
       "<div>\n",
       "<style scoped>\n",
       "    .dataframe tbody tr th:only-of-type {\n",
       "        vertical-align: middle;\n",
       "    }\n",
       "\n",
       "    .dataframe tbody tr th {\n",
       "        vertical-align: top;\n",
       "    }\n",
       "\n",
       "    .dataframe thead th {\n",
       "        text-align: right;\n",
       "    }\n",
       "</style>\n",
       "<table border=\"1\" class=\"dataframe\">\n",
       "  <thead>\n",
       "    <tr style=\"text-align: right;\">\n",
       "      <th></th>\n",
       "      <th>userid</th>\n",
       "      <th>uname</th>\n",
       "      <th>name</th>\n",
       "      <th>email</th>\n",
       "      <th>password</th>\n",
       "      <th>sex</th>\n",
       "      <th>age</th>\n",
       "    </tr>\n",
       "  </thead>\n",
       "  <tbody>\n",
       "    <tr>\n",
       "      <th>0</th>\n",
       "      <td>1</td>\n",
       "      <td>Decy1</td>\n",
       "      <td>Satyajit</td>\n",
       "      <td>H4Shukla@gmail.com</td>\n",
       "      <td>decy7G7#A</td>\n",
       "      <td>Others</td>\n",
       "      <td>58</td>\n",
       "    </tr>\n",
       "    <tr>\n",
       "      <th>1</th>\n",
       "      <td>2</td>\n",
       "      <td>Decy2</td>\n",
       "      <td>Shukla</td>\n",
       "      <td>X1Harry@gmail.com</td>\n",
       "      <td>decy1N1#A</td>\n",
       "      <td>Male</td>\n",
       "      <td>48</td>\n",
       "    </tr>\n",
       "    <tr>\n",
       "      <th>2</th>\n",
       "      <td>3</td>\n",
       "      <td>Decy3</td>\n",
       "      <td>Anshaj</td>\n",
       "      <td>H4Harry@gmail.com</td>\n",
       "      <td>decy2M0#A</td>\n",
       "      <td>Male</td>\n",
       "      <td>54</td>\n",
       "    </tr>\n",
       "    <tr>\n",
       "      <th>3</th>\n",
       "      <td>4</td>\n",
       "      <td>Decy4</td>\n",
       "      <td>Harry</td>\n",
       "      <td>S5Deepa@gmail.com</td>\n",
       "      <td>decy2Y8#A</td>\n",
       "      <td>Female</td>\n",
       "      <td>52</td>\n",
       "    </tr>\n",
       "    <tr>\n",
       "      <th>4</th>\n",
       "      <td>5</td>\n",
       "      <td>Decy5</td>\n",
       "      <td>Satyajit</td>\n",
       "      <td>A3Shukla@gmail.com</td>\n",
       "      <td>decy3M4#A</td>\n",
       "      <td>Female</td>\n",
       "      <td>30</td>\n",
       "    </tr>\n",
       "  </tbody>\n",
       "</table>\n",
       "</div>"
      ],
      "text/plain": [
       "   userid  uname      name               email   password     sex  age\n",
       "0       1  Decy1  Satyajit  H4Shukla@gmail.com  decy7G7#A  Others   58\n",
       "1       2  Decy2    Shukla   X1Harry@gmail.com  decy1N1#A    Male   48\n",
       "2       3  Decy3    Anshaj   H4Harry@gmail.com  decy2M0#A    Male   54\n",
       "3       4  Decy4     Harry   S5Deepa@gmail.com  decy2Y8#A  Female   52\n",
       "4       5  Decy5  Satyajit  A3Shukla@gmail.com  decy3M4#A  Female   30"
      ]
     },
     "execution_count": 43,
     "metadata": {},
     "output_type": "execute_result"
    }
   ],
   "source": [
    "user.head()"
   ]
  },
  {
   "cell_type": "code",
   "execution_count": 44,
   "metadata": {},
   "outputs": [],
   "source": [
    "a=[]#ISBN\n",
    "b=[]#TITLE\n",
    "c=[]#YEAR\n",
    "d=[]#PUBLISHER\n",
    "e=[]#IMAGE URL\n",
    "loc=\"ABCDEFGHIJKLMNOPQRSTUVWXYZ\"\n",
    "loc1=\"1234567890\"\n",
    "op=['Satyajit','Deepa','Anshaj','Shukla','Tyagi','Ron','Harry','Opert']\n",
    "for i in range(1,length):\n",
    "    a.append(i+10000000)\n",
    "    b.append(random.choice(loc)+random.choice(loc1)+random.choice(loc)+random.choice(loc1)+random.choice(loc)+random.choice(loc1)+random.choice(loc)+random.choice(loc1))\n",
    "    c.append(numpy.random.randint(1996,2018))\n",
    "    d.append(random.choice(op))\n",
    "    e.append(i)"
   ]
  },
  {
   "cell_type": "code",
   "execution_count": 45,
   "metadata": {},
   "outputs": [],
   "source": [
    "book['isbn']=a\n",
    "book['title']=b\n",
    "book['year']=c\n",
    "book['publisher']=d\n",
    "book['url']=e"
   ]
  },
  {
   "cell_type": "code",
   "execution_count": 46,
   "metadata": {},
   "outputs": [
    {
     "data": {
      "text/html": [
       "<div>\n",
       "<style scoped>\n",
       "    .dataframe tbody tr th:only-of-type {\n",
       "        vertical-align: middle;\n",
       "    }\n",
       "\n",
       "    .dataframe tbody tr th {\n",
       "        vertical-align: top;\n",
       "    }\n",
       "\n",
       "    .dataframe thead th {\n",
       "        text-align: right;\n",
       "    }\n",
       "</style>\n",
       "<table border=\"1\" class=\"dataframe\">\n",
       "  <thead>\n",
       "    <tr style=\"text-align: right;\">\n",
       "      <th></th>\n",
       "      <th>isbn</th>\n",
       "      <th>title</th>\n",
       "      <th>year</th>\n",
       "      <th>publisher</th>\n",
       "      <th>url</th>\n",
       "    </tr>\n",
       "  </thead>\n",
       "  <tbody>\n",
       "    <tr>\n",
       "      <th>0</th>\n",
       "      <td>10000001</td>\n",
       "      <td>U0W5M4C1</td>\n",
       "      <td>1999</td>\n",
       "      <td>Opert</td>\n",
       "      <td>1</td>\n",
       "    </tr>\n",
       "    <tr>\n",
       "      <th>1</th>\n",
       "      <td>10000002</td>\n",
       "      <td>C4O8G4L7</td>\n",
       "      <td>2001</td>\n",
       "      <td>Anshaj</td>\n",
       "      <td>2</td>\n",
       "    </tr>\n",
       "    <tr>\n",
       "      <th>2</th>\n",
       "      <td>10000003</td>\n",
       "      <td>J7S6X9Y7</td>\n",
       "      <td>2015</td>\n",
       "      <td>Satyajit</td>\n",
       "      <td>3</td>\n",
       "    </tr>\n",
       "    <tr>\n",
       "      <th>3</th>\n",
       "      <td>10000004</td>\n",
       "      <td>U8Q7A8D1</td>\n",
       "      <td>2004</td>\n",
       "      <td>Shukla</td>\n",
       "      <td>4</td>\n",
       "    </tr>\n",
       "    <tr>\n",
       "      <th>4</th>\n",
       "      <td>10000005</td>\n",
       "      <td>U6P9S7X4</td>\n",
       "      <td>2001</td>\n",
       "      <td>Ron</td>\n",
       "      <td>5</td>\n",
       "    </tr>\n",
       "  </tbody>\n",
       "</table>\n",
       "</div>"
      ],
      "text/plain": [
       "       isbn     title  year publisher  url\n",
       "0  10000001  U0W5M4C1  1999     Opert    1\n",
       "1  10000002  C4O8G4L7  2001    Anshaj    2\n",
       "2  10000003  J7S6X9Y7  2015  Satyajit    3\n",
       "3  10000004  U8Q7A8D1  2004    Shukla    4\n",
       "4  10000005  U6P9S7X4  2001       Ron    5"
      ]
     },
     "execution_count": 46,
     "metadata": {},
     "output_type": "execute_result"
    }
   ],
   "source": [
    "book.head()"
   ]
  },
  {
   "cell_type": "code",
   "execution_count": 47,
   "metadata": {},
   "outputs": [
    {
     "data": {
      "text/html": [
       "<div>\n",
       "<style scoped>\n",
       "    .dataframe tbody tr th:only-of-type {\n",
       "        vertical-align: middle;\n",
       "    }\n",
       "\n",
       "    .dataframe tbody tr th {\n",
       "        vertical-align: top;\n",
       "    }\n",
       "\n",
       "    .dataframe thead th {\n",
       "        text-align: right;\n",
       "    }\n",
       "</style>\n",
       "<table border=\"1\" class=\"dataframe\">\n",
       "  <thead>\n",
       "    <tr style=\"text-align: right;\">\n",
       "      <th></th>\n",
       "      <th>userid</th>\n",
       "      <th>uname</th>\n",
       "      <th>name</th>\n",
       "      <th>email</th>\n",
       "      <th>password</th>\n",
       "      <th>sex</th>\n",
       "      <th>age</th>\n",
       "    </tr>\n",
       "  </thead>\n",
       "  <tbody>\n",
       "    <tr>\n",
       "      <th>0</th>\n",
       "      <td>1</td>\n",
       "      <td>Decy1</td>\n",
       "      <td>Satyajit</td>\n",
       "      <td>H4Shukla@gmail.com</td>\n",
       "      <td>decy7G7#A</td>\n",
       "      <td>Others</td>\n",
       "      <td>58</td>\n",
       "    </tr>\n",
       "    <tr>\n",
       "      <th>1</th>\n",
       "      <td>2</td>\n",
       "      <td>Decy2</td>\n",
       "      <td>Shukla</td>\n",
       "      <td>X1Harry@gmail.com</td>\n",
       "      <td>decy1N1#A</td>\n",
       "      <td>Male</td>\n",
       "      <td>48</td>\n",
       "    </tr>\n",
       "    <tr>\n",
       "      <th>2</th>\n",
       "      <td>3</td>\n",
       "      <td>Decy3</td>\n",
       "      <td>Anshaj</td>\n",
       "      <td>H4Harry@gmail.com</td>\n",
       "      <td>decy2M0#A</td>\n",
       "      <td>Male</td>\n",
       "      <td>54</td>\n",
       "    </tr>\n",
       "    <tr>\n",
       "      <th>3</th>\n",
       "      <td>4</td>\n",
       "      <td>Decy4</td>\n",
       "      <td>Harry</td>\n",
       "      <td>S5Deepa@gmail.com</td>\n",
       "      <td>decy2Y8#A</td>\n",
       "      <td>Female</td>\n",
       "      <td>52</td>\n",
       "    </tr>\n",
       "    <tr>\n",
       "      <th>4</th>\n",
       "      <td>5</td>\n",
       "      <td>Decy5</td>\n",
       "      <td>Satyajit</td>\n",
       "      <td>A3Shukla@gmail.com</td>\n",
       "      <td>decy3M4#A</td>\n",
       "      <td>Female</td>\n",
       "      <td>30</td>\n",
       "    </tr>\n",
       "  </tbody>\n",
       "</table>\n",
       "</div>"
      ],
      "text/plain": [
       "   userid  uname      name               email   password     sex  age\n",
       "0       1  Decy1  Satyajit  H4Shukla@gmail.com  decy7G7#A  Others   58\n",
       "1       2  Decy2    Shukla   X1Harry@gmail.com  decy1N1#A    Male   48\n",
       "2       3  Decy3    Anshaj   H4Harry@gmail.com  decy2M0#A    Male   54\n",
       "3       4  Decy4     Harry   S5Deepa@gmail.com  decy2Y8#A  Female   52\n",
       "4       5  Decy5  Satyajit  A3Shukla@gmail.com  decy3M4#A  Female   30"
      ]
     },
     "execution_count": 47,
     "metadata": {},
     "output_type": "execute_result"
    }
   ],
   "source": [
    "user.head()"
   ]
  },
  {
   "cell_type": "code",
   "execution_count": 48,
   "metadata": {},
   "outputs": [],
   "source": [
    "rating=pd.DataFrame()\n",
    "uid=user['userid'].tolist()\n",
    "bid=book['isbn'].tolist()\n",
    "q=[]\n",
    "w=[] \n",
    "r=[]\n",
    "for i in range(1,50000):\n",
    "    q.append(random.choice(uid))\n",
    "    w.append(random.choice(bid))\n",
    "    r.append(numpy.random.randint(1,10))\n",
    "    \n",
    "    "
   ]
  },
  {
   "cell_type": "code",
   "execution_count": 49,
   "metadata": {},
   "outputs": [],
   "source": [
    "rating['user_id']=q\n",
    "rating['isbn']=w\n",
    "rating['rating']=r"
   ]
  },
  {
   "cell_type": "code",
   "execution_count": 50,
   "metadata": {},
   "outputs": [
    {
     "data": {
      "text/plain": [
       "10000753    73\n",
       "10000579    69\n",
       "10000131    69\n",
       "10000054    69\n",
       "Name: isbn, dtype: int64"
      ]
     },
     "execution_count": 50,
     "metadata": {},
     "output_type": "execute_result"
    }
   ],
   "source": [
    "rating['isbn'].value_counts().head(4)"
   ]
  },
  {
   "cell_type": "code",
   "execution_count": null,
   "metadata": {},
   "outputs": [],
   "source": []
  },
  {
   "cell_type": "code",
   "execution_count": 51,
   "metadata": {},
   "outputs": [
    {
     "data": {
      "text/html": [
       "<div>\n",
       "<style scoped>\n",
       "    .dataframe tbody tr th:only-of-type {\n",
       "        vertical-align: middle;\n",
       "    }\n",
       "\n",
       "    .dataframe tbody tr th {\n",
       "        vertical-align: top;\n",
       "    }\n",
       "\n",
       "    .dataframe thead th {\n",
       "        text-align: right;\n",
       "    }\n",
       "</style>\n",
       "<table border=\"1\" class=\"dataframe\">\n",
       "  <thead>\n",
       "    <tr style=\"text-align: right;\">\n",
       "      <th></th>\n",
       "      <th>userid</th>\n",
       "      <th>uname</th>\n",
       "      <th>name</th>\n",
       "      <th>email</th>\n",
       "      <th>password</th>\n",
       "      <th>sex</th>\n",
       "      <th>age</th>\n",
       "    </tr>\n",
       "  </thead>\n",
       "  <tbody>\n",
       "    <tr>\n",
       "      <th>0</th>\n",
       "      <td>1</td>\n",
       "      <td>Decy1</td>\n",
       "      <td>Satyajit</td>\n",
       "      <td>H4Shukla@gmail.com</td>\n",
       "      <td>decy7G7#A</td>\n",
       "      <td>Others</td>\n",
       "      <td>58</td>\n",
       "    </tr>\n",
       "    <tr>\n",
       "      <th>1</th>\n",
       "      <td>2</td>\n",
       "      <td>Decy2</td>\n",
       "      <td>Shukla</td>\n",
       "      <td>X1Harry@gmail.com</td>\n",
       "      <td>decy1N1#A</td>\n",
       "      <td>Male</td>\n",
       "      <td>48</td>\n",
       "    </tr>\n",
       "    <tr>\n",
       "      <th>2</th>\n",
       "      <td>3</td>\n",
       "      <td>Decy3</td>\n",
       "      <td>Anshaj</td>\n",
       "      <td>H4Harry@gmail.com</td>\n",
       "      <td>decy2M0#A</td>\n",
       "      <td>Male</td>\n",
       "      <td>54</td>\n",
       "    </tr>\n",
       "    <tr>\n",
       "      <th>3</th>\n",
       "      <td>4</td>\n",
       "      <td>Decy4</td>\n",
       "      <td>Harry</td>\n",
       "      <td>S5Deepa@gmail.com</td>\n",
       "      <td>decy2Y8#A</td>\n",
       "      <td>Female</td>\n",
       "      <td>52</td>\n",
       "    </tr>\n",
       "    <tr>\n",
       "      <th>4</th>\n",
       "      <td>5</td>\n",
       "      <td>Decy5</td>\n",
       "      <td>Satyajit</td>\n",
       "      <td>A3Shukla@gmail.com</td>\n",
       "      <td>decy3M4#A</td>\n",
       "      <td>Female</td>\n",
       "      <td>30</td>\n",
       "    </tr>\n",
       "  </tbody>\n",
       "</table>\n",
       "</div>"
      ],
      "text/plain": [
       "   userid  uname      name               email   password     sex  age\n",
       "0       1  Decy1  Satyajit  H4Shukla@gmail.com  decy7G7#A  Others   58\n",
       "1       2  Decy2    Shukla   X1Harry@gmail.com  decy1N1#A    Male   48\n",
       "2       3  Decy3    Anshaj   H4Harry@gmail.com  decy2M0#A    Male   54\n",
       "3       4  Decy4     Harry   S5Deepa@gmail.com  decy2Y8#A  Female   52\n",
       "4       5  Decy5  Satyajit  A3Shukla@gmail.com  decy3M4#A  Female   30"
      ]
     },
     "execution_count": 51,
     "metadata": {},
     "output_type": "execute_result"
    }
   ],
   "source": [
    "user.head()"
   ]
  },
  {
   "cell_type": "code",
   "execution_count": 52,
   "metadata": {},
   "outputs": [
    {
     "data": {
      "text/html": [
       "<div>\n",
       "<style scoped>\n",
       "    .dataframe tbody tr th:only-of-type {\n",
       "        vertical-align: middle;\n",
       "    }\n",
       "\n",
       "    .dataframe tbody tr th {\n",
       "        vertical-align: top;\n",
       "    }\n",
       "\n",
       "    .dataframe thead th {\n",
       "        text-align: right;\n",
       "    }\n",
       "</style>\n",
       "<table border=\"1\" class=\"dataframe\">\n",
       "  <thead>\n",
       "    <tr style=\"text-align: right;\">\n",
       "      <th></th>\n",
       "      <th>isbn</th>\n",
       "      <th>title</th>\n",
       "      <th>year</th>\n",
       "      <th>publisher</th>\n",
       "      <th>url</th>\n",
       "    </tr>\n",
       "  </thead>\n",
       "  <tbody>\n",
       "    <tr>\n",
       "      <th>0</th>\n",
       "      <td>10000001</td>\n",
       "      <td>U0W5M4C1</td>\n",
       "      <td>1999</td>\n",
       "      <td>Opert</td>\n",
       "      <td>1</td>\n",
       "    </tr>\n",
       "    <tr>\n",
       "      <th>1</th>\n",
       "      <td>10000002</td>\n",
       "      <td>C4O8G4L7</td>\n",
       "      <td>2001</td>\n",
       "      <td>Anshaj</td>\n",
       "      <td>2</td>\n",
       "    </tr>\n",
       "    <tr>\n",
       "      <th>2</th>\n",
       "      <td>10000003</td>\n",
       "      <td>J7S6X9Y7</td>\n",
       "      <td>2015</td>\n",
       "      <td>Satyajit</td>\n",
       "      <td>3</td>\n",
       "    </tr>\n",
       "    <tr>\n",
       "      <th>3</th>\n",
       "      <td>10000004</td>\n",
       "      <td>U8Q7A8D1</td>\n",
       "      <td>2004</td>\n",
       "      <td>Shukla</td>\n",
       "      <td>4</td>\n",
       "    </tr>\n",
       "    <tr>\n",
       "      <th>4</th>\n",
       "      <td>10000005</td>\n",
       "      <td>U6P9S7X4</td>\n",
       "      <td>2001</td>\n",
       "      <td>Ron</td>\n",
       "      <td>5</td>\n",
       "    </tr>\n",
       "  </tbody>\n",
       "</table>\n",
       "</div>"
      ],
      "text/plain": [
       "       isbn     title  year publisher  url\n",
       "0  10000001  U0W5M4C1  1999     Opert    1\n",
       "1  10000002  C4O8G4L7  2001    Anshaj    2\n",
       "2  10000003  J7S6X9Y7  2015  Satyajit    3\n",
       "3  10000004  U8Q7A8D1  2004    Shukla    4\n",
       "4  10000005  U6P9S7X4  2001       Ron    5"
      ]
     },
     "execution_count": 52,
     "metadata": {},
     "output_type": "execute_result"
    }
   ],
   "source": [
    "book.head()"
   ]
  },
  {
   "cell_type": "code",
   "execution_count": null,
   "metadata": {},
   "outputs": [],
   "source": []
  },
  {
   "cell_type": "code",
   "execution_count": 53,
   "metadata": {},
   "outputs": [],
   "source": [
    "book.to_csv('book.csv',index=False)\n",
    "rating.to_csv('rating.csv',index=False)\n",
    "user.to_csv('user.csv',index=False)"
   ]
  },
  {
   "cell_type": "code",
   "execution_count": null,
   "metadata": {},
   "outputs": [],
   "source": []
  },
  {
   "cell_type": "code",
   "execution_count": null,
   "metadata": {},
   "outputs": [],
   "source": []
  },
  {
   "cell_type": "code",
   "execution_count": null,
   "metadata": {},
   "outputs": [],
   "source": []
  },
  {
   "cell_type": "code",
   "execution_count": 50,
   "metadata": {},
   "outputs": [
    {
     "data": {
      "text/html": [
       "<div>\n",
       "<style scoped>\n",
       "    .dataframe tbody tr th:only-of-type {\n",
       "        vertical-align: middle;\n",
       "    }\n",
       "\n",
       "    .dataframe tbody tr th {\n",
       "        vertical-align: top;\n",
       "    }\n",
       "\n",
       "    .dataframe thead th {\n",
       "        text-align: right;\n",
       "    }\n",
       "</style>\n",
       "<table border=\"1\" class=\"dataframe\">\n",
       "  <thead>\n",
       "    <tr style=\"text-align: right;\">\n",
       "      <th></th>\n",
       "      <th>userid</th>\n",
       "      <th>uname</th>\n",
       "      <th>name</th>\n",
       "      <th>email</th>\n",
       "      <th>password</th>\n",
       "      <th>sex</th>\n",
       "      <th>age</th>\n",
       "    </tr>\n",
       "  </thead>\n",
       "  <tbody>\n",
       "    <tr>\n",
       "      <th>0</th>\n",
       "      <td>1</td>\n",
       "      <td>Decy1</td>\n",
       "      <td>Deepa</td>\n",
       "      <td>A4Ron@gmail.com</td>\n",
       "      <td>decy0E3#A</td>\n",
       "      <td>Male</td>\n",
       "      <td>67</td>\n",
       "    </tr>\n",
       "    <tr>\n",
       "      <th>1</th>\n",
       "      <td>2</td>\n",
       "      <td>Decy2</td>\n",
       "      <td>Anshaj</td>\n",
       "      <td>C5Opert@gmail.com</td>\n",
       "      <td>decy0K1#A</td>\n",
       "      <td>Male</td>\n",
       "      <td>45</td>\n",
       "    </tr>\n",
       "  </tbody>\n",
       "</table>\n",
       "</div>"
      ],
      "text/plain": [
       "   userid  uname    name              email   password   sex  age\n",
       "0       1  Decy1   Deepa    A4Ron@gmail.com  decy0E3#A  Male   67\n",
       "1       2  Decy2  Anshaj  C5Opert@gmail.com  decy0K1#A  Male   45"
      ]
     },
     "execution_count": 50,
     "metadata": {},
     "output_type": "execute_result"
    }
   ],
   "source": [
    "user.head(2)"
   ]
  },
  {
   "cell_type": "code",
   "execution_count": 51,
   "metadata": {},
   "outputs": [
    {
     "data": {
      "text/plain": [
       "0"
      ]
     },
     "execution_count": 51,
     "metadata": {},
     "output_type": "execute_result"
    }
   ],
   "source": [
    "cur.execute('create table user (userid INT PRIMARY KEY AUTO_INCREMENT,uname varchar(100) ,name varchar(100),email varchar(100),password varchar(100),sex varchar(100),age INT)')"
   ]
  },
  {
   "cell_type": "code",
   "execution_count": 52,
   "metadata": {},
   "outputs": [],
   "source": [
    "a=user['userid'].tolist()\n",
    "b=user['uname'].tolist()\n",
    "c=user['name'].tolist()\n",
    "d=user['email'].tolist()\n",
    "e=user['password'].tolist()\n",
    "f=user['sex'].tolist()\n",
    "g=user['age'].tolist()"
   ]
  },
  {
   "cell_type": "code",
   "execution_count": 53,
   "metadata": {},
   "outputs": [],
   "source": [
    "for i in range(1,len(a)):\n",
    "    cur.execute('insert into user values(\"%d\",\"%s\",\"%s\",\"%s\",\"%s\",\"%s\",\"%d\")'% (a[i],b[i],c[i],d[i],e[i],f[i],g[i])) "
   ]
  },
  {
   "cell_type": "code",
   "execution_count": 54,
   "metadata": {},
   "outputs": [],
   "source": [
    "db.commit()"
   ]
  },
  {
   "cell_type": "code",
   "execution_count": 55,
   "metadata": {},
   "outputs": [
    {
     "data": {
      "text/html": [
       "<div>\n",
       "<style scoped>\n",
       "    .dataframe tbody tr th:only-of-type {\n",
       "        vertical-align: middle;\n",
       "    }\n",
       "\n",
       "    .dataframe tbody tr th {\n",
       "        vertical-align: top;\n",
       "    }\n",
       "\n",
       "    .dataframe thead th {\n",
       "        text-align: right;\n",
       "    }\n",
       "</style>\n",
       "<table border=\"1\" class=\"dataframe\">\n",
       "  <thead>\n",
       "    <tr style=\"text-align: right;\">\n",
       "      <th></th>\n",
       "      <th>isbn</th>\n",
       "      <th>title</th>\n",
       "      <th>year</th>\n",
       "      <th>publisher</th>\n",
       "      <th>url</th>\n",
       "    </tr>\n",
       "  </thead>\n",
       "  <tbody>\n",
       "    <tr>\n",
       "      <th>0</th>\n",
       "      <td>10000001</td>\n",
       "      <td>I8T5X2S5</td>\n",
       "      <td>1996</td>\n",
       "      <td>Anshaj</td>\n",
       "      <td>1</td>\n",
       "    </tr>\n",
       "    <tr>\n",
       "      <th>1</th>\n",
       "      <td>10000002</td>\n",
       "      <td>R7H7Q6R8</td>\n",
       "      <td>2017</td>\n",
       "      <td>Deepa</td>\n",
       "      <td>2</td>\n",
       "    </tr>\n",
       "  </tbody>\n",
       "</table>\n",
       "</div>"
      ],
      "text/plain": [
       "       isbn     title  year publisher  url\n",
       "0  10000001  I8T5X2S5  1996    Anshaj    1\n",
       "1  10000002  R7H7Q6R8  2017     Deepa    2"
      ]
     },
     "execution_count": 55,
     "metadata": {},
     "output_type": "execute_result"
    }
   ],
   "source": [
    "book.head(2)"
   ]
  },
  {
   "cell_type": "code",
   "execution_count": 56,
   "metadata": {},
   "outputs": [
    {
     "data": {
      "text/plain": [
       "0"
      ]
     },
     "execution_count": 56,
     "metadata": {},
     "output_type": "execute_result"
    }
   ],
   "source": [
    "cur.execute('create table book (isbn INT,title varchar(200),year INT,publisher varchar(100),url varchar(100))')"
   ]
  },
  {
   "cell_type": "code",
   "execution_count": 57,
   "metadata": {},
   "outputs": [],
   "source": [
    "a=book['isbn'].tolist()\n",
    "b=book['title'].tolist()\n",
    "c=book['year'].tolist()\n",
    "d=book['publisher'].tolist()\n",
    "e=book['url'].tolist()\n",
    "\n"
   ]
  },
  {
   "cell_type": "code",
   "execution_count": 58,
   "metadata": {},
   "outputs": [],
   "source": [
    "for i in range(len(a)):\n",
    "    cur.execute('insert into book values(\"%d\",\"%s\",\"%d\",\"%s\",\"%s\")'% (a[i],b[i],c[i],d[i],e[i])) "
   ]
  },
  {
   "cell_type": "code",
   "execution_count": 59,
   "metadata": {},
   "outputs": [],
   "source": [
    "db.commit()"
   ]
  },
  {
   "cell_type": "code",
   "execution_count": 60,
   "metadata": {},
   "outputs": [
    {
     "data": {
      "text/html": [
       "<div>\n",
       "<style scoped>\n",
       "    .dataframe tbody tr th:only-of-type {\n",
       "        vertical-align: middle;\n",
       "    }\n",
       "\n",
       "    .dataframe tbody tr th {\n",
       "        vertical-align: top;\n",
       "    }\n",
       "\n",
       "    .dataframe thead th {\n",
       "        text-align: right;\n",
       "    }\n",
       "</style>\n",
       "<table border=\"1\" class=\"dataframe\">\n",
       "  <thead>\n",
       "    <tr style=\"text-align: right;\">\n",
       "      <th></th>\n",
       "      <th>user_id</th>\n",
       "      <th>isbn</th>\n",
       "      <th>rating</th>\n",
       "    </tr>\n",
       "  </thead>\n",
       "  <tbody>\n",
       "    <tr>\n",
       "      <th>0</th>\n",
       "      <td>57</td>\n",
       "      <td>10000009</td>\n",
       "      <td>2</td>\n",
       "    </tr>\n",
       "    <tr>\n",
       "      <th>1</th>\n",
       "      <td>31</td>\n",
       "      <td>10000142</td>\n",
       "      <td>9</td>\n",
       "    </tr>\n",
       "  </tbody>\n",
       "</table>\n",
       "</div>"
      ],
      "text/plain": [
       "   user_id      isbn  rating\n",
       "0       57  10000009       2\n",
       "1       31  10000142       9"
      ]
     },
     "execution_count": 60,
     "metadata": {},
     "output_type": "execute_result"
    }
   ],
   "source": [
    "rating.head(2)"
   ]
  },
  {
   "cell_type": "code",
   "execution_count": 54,
   "metadata": {},
   "outputs": [
    {
     "data": {
      "text/plain": [
       "0"
      ]
     },
     "execution_count": 54,
     "metadata": {},
     "output_type": "execute_result"
    }
   ],
   "source": [
    "cur.execute('create table rating (user_id INT,isbn INT,rating INT)')"
   ]
  },
  {
   "cell_type": "code",
   "execution_count": 55,
   "metadata": {},
   "outputs": [],
   "source": [
    "a=rating['user_id'].tolist()\n",
    "b=rating['isbn'].tolist()\n",
    "c=rating['rating'].tolist()\n",
    "\n",
    "\n"
   ]
  },
  {
   "cell_type": "code",
   "execution_count": 56,
   "metadata": {},
   "outputs": [],
   "source": [
    "o=pd.DataFrame([a,b,c])"
   ]
  },
  {
   "cell_type": "code",
   "execution_count": 61,
   "metadata": {},
   "outputs": [],
   "source": [
    "o=o.T\n"
   ]
  },
  {
   "cell_type": "code",
   "execution_count": null,
   "metadata": {},
   "outputs": [],
   "source": []
  },
  {
   "cell_type": "code",
   "execution_count": 64,
   "metadata": {},
   "outputs": [],
   "source": [
    "o.drop_duplicates(subset =[0,1], \n",
    "                     keep = False, inplace = True)"
   ]
  },
  {
   "cell_type": "code",
   "execution_count": 66,
   "metadata": {},
   "outputs": [],
   "source": [
    "a=o[0].tolist()\n",
    "b=o[1].tolist()\n",
    "c=o[2].tolist()\n"
   ]
  },
  {
   "cell_type": "code",
   "execution_count": null,
   "metadata": {},
   "outputs": [],
   "source": []
  },
  {
   "cell_type": "code",
   "execution_count": 70,
   "metadata": {},
   "outputs": [],
   "source": [
    "for i in range(len(a)):\n",
    "    cur.execute('insert into rating values(\"%d\",\"%d\",\"%d\")'% (a[i],b[i],c[i])) "
   ]
  },
  {
   "cell_type": "code",
   "execution_count": 71,
   "metadata": {},
   "outputs": [],
   "source": [
    "db.commit()"
   ]
  },
  {
   "cell_type": "code",
   "execution_count": 65,
   "metadata": {},
   "outputs": [],
   "source": [
    "x=cur.execute('Select * from user')"
   ]
  },
  {
   "cell_type": "code",
   "execution_count": null,
   "metadata": {},
   "outputs": [],
   "source": []
  },
  {
   "cell_type": "code",
   "execution_count": null,
   "metadata": {},
   "outputs": [],
   "source": []
  },
  {
   "cell_type": "code",
   "execution_count": null,
   "metadata": {},
   "outputs": [],
   "source": []
  },
  {
   "cell_type": "code",
   "execution_count": null,
   "metadata": {},
   "outputs": [],
   "source": []
  },
  {
   "cell_type": "code",
   "execution_count": null,
   "metadata": {},
   "outputs": [],
   "source": []
  },
  {
   "cell_type": "code",
   "execution_count": null,
   "metadata": {},
   "outputs": [],
   "source": []
  },
  {
   "cell_type": "code",
   "execution_count": null,
   "metadata": {},
   "outputs": [],
   "source": []
  },
  {
   "cell_type": "code",
   "execution_count": null,
   "metadata": {},
   "outputs": [],
   "source": []
  },
  {
   "cell_type": "code",
   "execution_count": null,
   "metadata": {},
   "outputs": [],
   "source": []
  },
  {
   "cell_type": "code",
   "execution_count": null,
   "metadata": {},
   "outputs": [],
   "source": []
  },
  {
   "cell_type": "code",
   "execution_count": null,
   "metadata": {},
   "outputs": [],
   "source": []
  },
  {
   "cell_type": "code",
   "execution_count": null,
   "metadata": {},
   "outputs": [],
   "source": []
  },
  {
   "cell_type": "code",
   "execution_count": null,
   "metadata": {},
   "outputs": [],
   "source": []
  },
  {
   "cell_type": "code",
   "execution_count": null,
   "metadata": {},
   "outputs": [],
   "source": []
  },
  {
   "cell_type": "code",
   "execution_count": null,
   "metadata": {},
   "outputs": [],
   "source": []
  },
  {
   "cell_type": "code",
   "execution_count": null,
   "metadata": {},
   "outputs": [],
   "source": []
  }
 ],
 "metadata": {
  "kernelspec": {
   "display_name": "Python 3",
   "language": "python",
   "name": "python3"
  },
  "language_info": {
   "codemirror_mode": {
    "name": "ipython",
    "version": 3
   },
   "file_extension": ".py",
   "mimetype": "text/x-python",
   "name": "python",
   "nbconvert_exporter": "python",
   "pygments_lexer": "ipython3",
   "version": "3.7.0"
  }
 },
 "nbformat": 4,
 "nbformat_minor": 2
}
